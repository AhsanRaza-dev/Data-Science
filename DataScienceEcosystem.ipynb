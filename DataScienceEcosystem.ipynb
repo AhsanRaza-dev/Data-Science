{
 "cells": [
  {
   "cell_type": "markdown",
   "id": "d00ff91a-a499-418f-a775-8b096910719a",
   "metadata": {},
   "source": [
    "# Data Science Tools and Ecosystem"
   ]
  },
  {
   "cell_type": "markdown",
   "id": "3cd06f30-df1b-4825-a105-a512098074b5",
   "metadata": {},
   "source": [
    "## Introduction\n",
    "In this notebook, we will explore some of the key tools, languages, and libraries used in data science. We will also demonstrate basic arithmetic operations and provide a table of commonly used data science tools."
   ]
  },
  {
   "cell_type": "markdown",
   "id": "b548f237-5fbf-45a6-b005-b43ff2a1b78c",
   "metadata": {},
   "source": [
    "## Data Science Languages\n",
    "Some of the most popular programming languages used in data science include:\n",
    "- Python\n",
    "- R\n",
    "- SQL\n",
    "- Julia\n",
    "- Scala\n",
    "- Java\n",
    "- MATLAB"
   ]
  },
  {
   "cell_type": "markdown",
   "id": "45302f62-e8d5-4e1a-aea3-dd6195fef58e",
   "metadata": {},
   "source": [
    "## Data Science Libraries\n",
    "Here are some commonly used libraries in data science:\n",
    "- **Python Libraries**:\n",
    "  - Pandas\n",
    "  - NumPy\n",
    "  - Matplotlib\n",
    "  - Seaborn\n",
    "  - Scikit-learn\n",
    "  - TensorFlow\n",
    "  - Keras\n",
    "- **R Libraries**:\n",
    "  - dplyr\n",
    "  - ggplot2\n",
    "  - caret\n",
    "  - tidyr\n",
    "- **Scala Libraries**:\n",
    "  - Apache Spark"
   ]
  },
  {
   "cell_type": "markdown",
   "id": "1ce1035f-119a-45a9-9999-8e4e739d06d7",
   "metadata": {},
   "source": [
    "## Data Science Tools\n",
    "Below is a table of commonly used data science tools:\n",
    "\n",
    "| Tool Name       | Purpose                          | Platform      |\n",
    "|-----------------|----------------------------------|---------------|\n",
    "| Jupyter Notebook| Interactive coding and analysis | Web-based     |\n",
    "| RStudio         | Statistical analysis and modeling| Desktop/Web   |\n",
    "| TensorFlow      | Machine learning and deep learning | Open-source   |\n",
    "| Tableau         | Data visualization              | Desktop/Cloud  |\n",
    "| Apache Spark    | Big data processing             | Distributed   |\n",
    "| Git/GitHub      | Version control and collaboration | Cloud-based   |"
   ]
  },
  {
   "cell_type": "markdown",
   "id": "bbd61d2a-b0a8-4102-91f2-b9fc2bf34db7",
   "metadata": {},
   "source": [
    "## Arithmetic Expression Examples\n",
    "In this section, we will demonstrate basic arithmetic operations such as addition and multiplication using Python code."
   ]
  },
  {
   "cell_type": "code",
   "execution_count": 12,
   "id": "58b6f525-1082-4301-96d0-02c86e385d21",
   "metadata": {},
   "outputs": [
    {
     "name": "stdout",
     "output_type": "stream",
     "text": [
      "Addition Result: 15\n",
      "Multiplication Result: 50\n"
     ]
    }
   ],
   "source": [
    "# Arithmetic operations: Addition and Multiplication\n",
    "a = 10\n",
    "b = 5\n",
    "\n",
    "# Addition\n",
    "addition_result = a + b\n",
    "print(f\"Addition Result: {addition_result}\")\n",
    "\n",
    "# Multiplication\n",
    "multiplication_result = a * b\n",
    "print(f\"Multiplication Result: {multiplication_result}\")"
   ]
  },
  {
   "cell_type": "code",
   "execution_count": 14,
   "id": "7681b3e3-8186-48a0-974b-aa527d70d861",
   "metadata": {},
   "outputs": [
    {
     "name": "stdout",
     "output_type": "stream",
     "text": [
      "150 minutes is equal to 2.50 hours\n"
     ]
    }
   ],
   "source": [
    "# Convert minutes to hours\n",
    "minutes = 150\n",
    "hours = minutes / 60\n",
    "print(f\"{minutes} minutes is equal to {hours:.2f} hours\")"
   ]
  },
  {
   "cell_type": "markdown",
   "id": "378bea39-66b6-475e-95bb-aad76d00c657",
   "metadata": {},
   "source": [
    "## Objectives\n",
    "The objectives of this notebook are:\n",
    "- To introduce key tools, languages, and libraries used in data science.\n",
    "- To demonstrate basic arithmetic operations in Python.\n",
    "- To provide a table of commonly used data science tools.\n",
    "- To share the notebook publicly via GitHub.\n",
    "- To practice creating and formatting Markdown and Code cells in Jupyter Notebooks."
   ]
  },
  {
   "cell_type": "markdown",
   "id": "a2178fee-fcba-4315-b111-aa864955c581",
   "metadata": {},
   "source": [
    "## Author\n",
    "This notebook was created by **Ahsan Raza**."
   ]
  }
 ],
 "metadata": {
  "kernelspec": {
   "display_name": "Python [conda env:base] *",
   "language": "python",
   "name": "conda-base-py"
  },
  "language_info": {
   "codemirror_mode": {
    "name": "ipython",
    "version": 3
   },
   "file_extension": ".py",
   "mimetype": "text/x-python",
   "name": "python",
   "nbconvert_exporter": "python",
   "pygments_lexer": "ipython3",
   "version": "3.12.7"
  }
 },
 "nbformat": 4,
 "nbformat_minor": 5
}
